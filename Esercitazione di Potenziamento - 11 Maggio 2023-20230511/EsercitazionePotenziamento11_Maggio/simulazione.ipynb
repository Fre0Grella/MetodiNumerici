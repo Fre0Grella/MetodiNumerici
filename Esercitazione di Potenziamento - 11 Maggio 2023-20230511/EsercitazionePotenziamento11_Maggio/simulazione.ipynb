{
 "cells": [
  {
   "cell_type": "markdown",
   "id": "b1592f9b-6fb5-4bbf-ac5a-dba7efe13be7",
   "metadata": {},
   "source": [
    "## Esercizo 1\n",
    "Si consideri il sistema lineare Ax=b, con A matrice e b termine noto memorizzati nel file ``Dati0.mat``.  Risolvere il sistema utilizzando il metodo più adatto al problema proposto e commentare i risultati ottenuti  giustificandoli alla luce della teoria. \n",
    "\n",
    "Per la lettura dei dati procedere nel seguente modo:\n",
    "\n",
    "``from scipy.io import loadmat``\n",
    "\n",
    "``import numpy as np``\n",
    "\n",
    "``dati = loadmat('Dati0.mat')``\n",
    "\n",
    "``A=dati[\"A\"] ``\n",
    "\n",
    "`` b=dati[\"b\"] ``"
   ]
  },
  {
   "cell_type": "code",
   "execution_count": 2,
   "id": "5188f362-24d3-4173-90d6-8d6552285cad",
   "metadata": {
    "tags": []
   },
   "outputs": [],
   "source": [
    "from scipy.io import loadmat\n",
    "\n",
    "import numpy as np\n",
    "import matplotlib.pyplot as plt\n",
    "import time\n",
    "\n",
    "dati = loadmat('Dati0.mat')\n",
    "\n",
    "A = dati[\"A\"] \n",
    "\n",
    "b = dati[\"b\"]"
   ]
  },
  {
   "cell_type": "code",
   "execution_count": 3,
   "id": "56da7dba-7265-49ca-ab8e-2dd53b3570aa",
   "metadata": {
    "tags": []
   },
   "outputs": [],
   "source": [
    "def gauss_seidel(A,b,n=50,x=None):\n",
    "    \"\"\"Solves the equation Ax=b via the Gauss-Seidel iterative method.\"\"\"\n",
    "    # Create an initial guess if needed\n",
    "    if x is None:\n",
    "        x = np.zeros(np.shape(b))\n",
    "    \n",
    "    L = np.tril(A)\n",
    "    U = A-L\n",
    "    for i in range(n):\n",
    "        x = np.dot(np.linalg.inv(L),b-np.dot(U,x))\n",
    "    return x"
   ]
  },
  {
   "cell_type": "code",
   "execution_count": 19,
   "id": "263fa0a2",
   "metadata": {},
   "outputs": [],
   "source": [
    "def jacobi(A,b,n=50,x=None):\n",
    "    \"\"\"Solves the equation Ax=b via the Jacobi iterative method.\"\"\"\n",
    "    # Create an initial guess if needed                                                                                                                                                            \n",
    "    if x is None:\n",
    "        x = np.zeros(np.shape(b))\n",
    "                                                                                                                                                                   \n",
    "    D = np.diag(A)\n",
    "    R = A - np.diagflat(D)\n",
    "                                                                                                                                                                         \n",
    "    for i in range(n):\n",
    "        x = (b - np.dot(R,x)) / D\n",
    "    return x\n"
   ]
  },
  {
   "cell_type": "code",
   "execution_count": 15,
   "id": "dc4ea729-8c99-4721-b92a-b95f18386aa7",
   "metadata": {
    "tags": []
   },
   "outputs": [],
   "source": [
    "def sor_solver(A, b, w, tollerance, x=None):\n",
    "    \"\"\"Solves the equation Ax=b via Succesive Over Relaxation Method.\"\"\"\n",
    "\n",
    "    \"\"\" w: relaxation factor (typically 0 < w < 2)\n",
    "        tollerance: the amount of error accepted\n",
    "    \"\"\"\n",
    "    # Create an initial guess if needed                                                                                                                                                            \n",
    "    if x is None:\n",
    "        x = np.zeros(np.shape(b))\n",
    "\n",
    "    residual = np.linalg.norm(np.matmul(A, x) - b)\n",
    "    while residual > tollerance:\n",
    "        for i in range(A.shape[0]):\n",
    "            sigma = 0\n",
    "            for j in range(A.shape[1]):\n",
    "                if j != i:\n",
    "                    sigma += A[i][j] * x[j]\n",
    "            x[i] = (1 - w) * x[i] + (w / A[i][i]) * (b[i] - sigma)\n",
    "        residual = np.linalg.norm(np.matmul(A, x) - b)\n",
    "        #print('Residual: {0:10.6g}'.format(residual))\n",
    "    return x"
   ]
  },
  {
   "cell_type": "code",
   "execution_count": 5,
   "id": "d877b399-529b-4866-bf6a-edeb7e909c16",
   "metadata": {
    "tags": []
   },
   "outputs": [],
   "source": [
    "#plt.spy(A)"
   ]
  },
  {
   "cell_type": "code",
   "execution_count": 63,
   "id": "3eb9774c-50a4-4351-91ce-74d7d34cc25d",
   "metadata": {
    "tags": []
   },
   "outputs": [
    {
     "name": "stdout",
     "output_type": "stream",
     "text": [
      "Calculating the result...\n",
      "Accuracy of the result: 0.00015453020254172767\n",
      "Time elapsed 3.9893290996551514\n"
     ]
    }
   ],
   "source": [
    "\n",
    "'''np.count_nonzero(A)/400**2\n",
    "\n",
    "is_defpos = np.all(np.linalg.eigvals(A))\n",
    "is_sim = np.all(A == A.T)\n",
    "print(is_defpos)\n",
    "print(is_sim)'''\n",
    "print(\"Calculating the result...\")\n",
    "n= 1300\n",
    "start = time.time()\n",
    "#x = sor_solver(A,b,1.8,1e-1)\n",
    "#x = gauss_seidel(A,b,n)\n",
    "x = jacobi(A,b,n)\n",
    "end = time.time()\n",
    "diff = np.linalg.solve(A,b)-x\n",
    "print(\"Accuracy of the result:\",np.linalg.norm(diff,2))\n",
    "print(\"Time elapsed\",end-start)"
   ]
  },
  {
   "cell_type": "markdown",
   "id": "c0245435-e06a-449c-9fbb-3bc5407d3b97",
   "metadata": {},
   "source": [
    "## Esercizio 2"
   ]
  },
  {
   "cell_type": "markdown",
   "id": "e4bc86ad-7d61-4946-9c29-6c681ce11262",
   "metadata": {},
   "source": [
    "La sequenza \n",
    "\n",
    "$$x_1=1$$\n",
    "$$x_n= 2^{n-1} \\left( \\sqrt{1+ \\frac{x_{n-1}}{2^{n-2}} }-1 \\right)    \\quad \\quad n=2,3,...,\\quad (1) $$\n",
    "\n",
    "converge a $log(2)$, cioè  $\\lim_{n \\rightarrow \\infty} x_n= log(2)$\n",
    "\n",
    "- Si calcolino i valori della sequenza (1) per $n=1,..,71$\n",
    "\n",
    "- Costruire un grafico in cui nelle ascisse vi sia  il valore di $n=1,..,71$  e nelle ordinate il corrispondente valore di $x_n$ . \n",
    "\n",
    "- La successione converge a log(2)? In corrispondenza di quale $n$ si verifica un pessimo risultato? Spiegare alla luce della teoria\n",
    "\n",
    "- Manipolando opportunamente la formula (1) scrivere una formula  equivalente  ma piu\\' stabile per ottenere la sequenza $\\tilde x_n$\n",
    "algebricamente equivalente alla (1).\n",
    "\n",
    "- Valutare la formula proposta per calcolare la sequenza $\\tilde x_n $ per $n=1,..,71$\n",
    "\n",
    "- Costruire un grafico in cui nelle ascisse vi sia  il valore di n  e nelle ordinate il corrispondente valore di $\\tilde x_n$ \n",
    "\n",
    "- Calcolare l'errore relativo di ogni $x_n$ rispetto al valore esatto $log(2)$ \n",
    "\n",
    "\n",
    "- Calcolare l'errore relativo di ogni $\\tilde x_n$ rispetto al valore esatto $log(2)$"
   ]
  },
  {
   "cell_type": "markdown",
   "id": "d6905931-d53b-4b7f-a1ab-e84dd6683bf2",
   "metadata": {},
   "source": [
    "## Esercizo 3\n",
    "Si consideri il sistema lineare Ax=b, con A matrice e b termine noto memorizzati nel file ``Dati1.mat``.  Risolvere il sistema utilizzando il metodo più adatto al problema proposto e commentare i risultati ottenuti  giustificandoli alla luce della teoria. \n"
   ]
  },
  {
   "cell_type": "code",
   "execution_count": 146,
   "id": "96cb00b6-99da-4ddf-8384-ad0719ea9506",
   "metadata": {
    "tags": []
   },
   "outputs": [],
   "source": [
    "dati1 = loadmat('Dati1.mat')\n",
    "\n",
    "A1 = dati1[\"A\"] \n",
    "\n",
    "b1 = dati1[\"b\"]"
   ]
  },
  {
   "cell_type": "code",
   "execution_count": 148,
   "id": "edf0e3e9-4b88-4a43-9c23-17be3d9ce6ee",
   "metadata": {
    "tags": []
   },
   "outputs": [],
   "source": [
    "#plt.spy(A1)"
   ]
  },
  {
   "cell_type": "code",
   "execution_count": null,
   "id": "2599d53f-af6a-4865-85ab-7b971cee6f3e",
   "metadata": {},
   "outputs": [],
   "source": []
  }
 ],
 "metadata": {
  "kernelspec": {
   "display_name": "Python 3 (ipykernel)",
   "language": "python",
   "name": "python3"
  },
  "language_info": {
   "codemirror_mode": {
    "name": "ipython",
    "version": 3
   },
   "file_extension": ".py",
   "mimetype": "text/x-python",
   "name": "python",
   "nbconvert_exporter": "python",
   "pygments_lexer": "ipython3",
   "version": "3.11.3"
  }
 },
 "nbformat": 4,
 "nbformat_minor": 5
}
