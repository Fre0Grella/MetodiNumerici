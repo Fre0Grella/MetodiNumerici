{
 "cells": [
  {
   "cell_type": "markdown",
   "id": "b1592f9b-6fb5-4bbf-ac5a-dba7efe13be7",
   "metadata": {},
   "source": [
    "## Esercizo 1\n",
    "Si consideri il sistema lineare Ax=b, con A matrice e b termine noto memorizzati nel file ``Dati0.mat``.  Risolvere il sistema utilizzando il metodo più adatto al problema proposto e commentare i risultati ottenuti  giustificandoli alla luce della teoria. \n",
    "\n",
    "Per la lettura dei dati procedere nel seguente modo:\n",
    "\n",
    "``from scipy.io import loadmat``\n",
    "\n",
    "``import numpy as np``\n",
    "\n",
    "``dati = loadmat('Dati0.mat')``\n",
    "\n",
    "``A=dati[\"A\"] ``\n",
    "\n",
    "`` b=dati[\"b\"] ``"
   ]
  },
  {
   "cell_type": "code",
   "execution_count": 42,
   "id": "5188f362-24d3-4173-90d6-8d6552285cad",
   "metadata": {
    "tags": []
   },
   "outputs": [],
   "source": [
    "from scipy.io import loadmat\n",
    "\n",
    "import numpy as np\n",
    "import matplotlib.pyplot as plt\n",
    "import time\n",
    "from scipy.linalg import lu\n",
    "\n",
    "dati = loadmat('Dati0.mat')\n",
    "\n",
    "A = dati[\"A\"] \n",
    "\n",
    "b = dati[\"b\"]"
   ]
  },
  {
   "cell_type": "code",
   "execution_count": 3,
   "id": "56da7dba-7265-49ca-ab8e-2dd53b3570aa",
   "metadata": {
    "tags": []
   },
   "outputs": [],
   "source": [
    "def gauss_seidel(A,b,n=50,x=None):\n",
    "    \"\"\"Solves the equation Ax=b via the Gauss-Seidel iterative method.\"\"\"\n",
    "    # Create an initial guess if needed\n",
    "    if x is None:\n",
    "        x = np.zeros(np.shape(b))\n",
    "    \n",
    "    L = np.tril(A)\n",
    "    U = A-L\n",
    "    for i in range(n):\n",
    "        x = np.dot(np.linalg.inv(L),b-np.dot(U,x))\n",
    "    return x"
   ]
  },
  {
   "cell_type": "code",
   "execution_count": 3,
   "id": "263fa0a2",
   "metadata": {},
   "outputs": [],
   "source": [
    "def jacobi(A,b,n=50,x=None):\n",
    "    \"\"\"Solves the equation Ax=b via the Jacobi iterative method.\"\"\"\n",
    "    # Create an initial guess if needed                                                                                                                                                            \n",
    "    if x is None:\n",
    "        x = np.zeros(np.shape(b))\n",
    "                                                                                                                                                                   \n",
    "    D = np.diag(A)\n",
    "    R = A - np.diagflat(D)\n",
    "                                                                                                                                                                         \n",
    "    for i in range(n):\n",
    "        x = (b - np.dot(R,x)) / D\n",
    "    return x\n"
   ]
  },
  {
   "cell_type": "code",
   "execution_count": 15,
   "id": "dc4ea729-8c99-4721-b92a-b95f18386aa7",
   "metadata": {
    "tags": []
   },
   "outputs": [],
   "source": [
    "def sor_solver(A, b, w, tollerance, x=None):\n",
    "    \"\"\"Solves the equation Ax=b via Succesive Over Relaxation Method.\"\"\"\n",
    "\n",
    "    \"\"\" w: relaxation factor (typically 0 < w < 2)\n",
    "        tollerance: the amount of error accepted\n",
    "    \"\"\"\n",
    "    # Create an initial guess if needed                                                                                                                                                            \n",
    "    if x is None:\n",
    "        x = np.zeros(np.shape(b))\n",
    "\n",
    "    residual = np.linalg.norm(np.matmul(A, x) - b)\n",
    "    while residual > tollerance:\n",
    "        for i in range(A.shape[0]):\n",
    "            sigma = 0\n",
    "            for j in range(A.shape[1]):\n",
    "                if j != i:\n",
    "                    sigma += A[i][j] * x[j]\n",
    "            x[i] = (1 - w) * x[i] + (w / A[i][i]) * (b[i] - sigma)\n",
    "        residual = np.linalg.norm(np.matmul(A, x) - b)\n",
    "        #print('Residual: {0:10.6g}'.format(residual))\n",
    "    return x"
   ]
  },
  {
   "cell_type": "code",
   "execution_count": 5,
   "id": "d877b399-529b-4866-bf6a-edeb7e909c16",
   "metadata": {
    "tags": []
   },
   "outputs": [],
   "source": [
    "#plt.spy(A)"
   ]
  },
  {
   "cell_type": "code",
   "execution_count": 4,
   "id": "3eb9774c-50a4-4351-91ce-74d7d34cc25d",
   "metadata": {
    "tags": []
   },
   "outputs": [
    {
     "name": "stdout",
     "output_type": "stream",
     "text": [
      "Calculating the result...\n",
      "Accuracy of the result: 0.00015453020254512797\n",
      "Time elapsed 6.481194972991943\n"
     ]
    }
   ],
   "source": [
    "\n",
    "'''np.count_nonzero(A)/400**2\n",
    "\n",
    "is_defpos = np.all(np.linalg.eigvals(A))\n",
    "is_sim = np.all(A == A.T)\n",
    "print(is_defpos)\n",
    "print(is_sim)'''\n",
    "print(\"Calculating the result...\")\n",
    "n= 1300\n",
    "start = time.time()\n",
    "#x = sor_solver(A,b,1.8,1e-1)\n",
    "#x = gauss_seidel(A,b,n)\n",
    "x = jacobi(A,b,n)\n",
    "end = time.time()\n",
    "diff = np.linalg.solve(A,b)-x\n",
    "print(\"Accuracy of the result:\",np.linalg.norm(diff,2))\n",
    "print(\"Time elapsed\",end-start)"
   ]
  },
  {
   "cell_type": "markdown",
   "id": "c0245435-e06a-449c-9fbb-3bc5407d3b97",
   "metadata": {},
   "source": [
    "## Esercizio 2"
   ]
  },
  {
   "cell_type": "markdown",
   "id": "e4bc86ad-7d61-4946-9c29-6c681ce11262",
   "metadata": {},
   "source": [
    "La sequenza \n",
    "\n",
    "$$x_1=1$$\n",
    "$$x_n= 2^{n-1} \\left( \\sqrt{1+ \\frac{x_{n-1}}{2^{n-2}} }-1 \\right)    \\quad \\quad n=2,3,...,\\quad (1) $$\n",
    "\n",
    "converge a $log(2)$, cioè  $\\lim_{n \\rightarrow \\infty} x_n= log(2)$\n",
    "\n",
    "- Si calcolino i valori della sequenza (1) per $n=1,..,71$\n",
    "\n",
    "- Costruire un grafico in cui nelle ascisse vi sia  il valore di $n=1,..,71$  e nelle ordinate il corrispondente valore di $x_n$ . \n",
    "\n",
    "- La successione converge a log(2)? In corrispondenza di quale $n$ si verifica un pessimo risultato? Spiegare alla luce della teoria\n",
    "\n",
    "- Manipolando opportunamente la formula (1) scrivere una formula  equivalente  ma piu\\' stabile per ottenere la sequenza $\\tilde x_n$\n",
    "algebricamente equivalente alla (1).\n",
    "\n",
    "- Valutare la formula proposta per calcolare la sequenza $\\tilde x_n $ per $n=1,..,71$\n",
    "\n",
    "- Costruire un grafico in cui nelle ascisse vi sia  il valore di n  e nelle ordinate il corrispondente valore di $\\tilde x_n$ \n",
    "\n",
    "- Calcolare l'errore relativo di ogni $x_n$ rispetto al valore esatto $log(2)$ \n",
    "\n",
    "\n",
    "- Calcolare l'errore relativo di ogni $\\tilde x_n$ rispetto al valore esatto $log(2)$"
   ]
  },
  {
   "cell_type": "markdown",
   "id": "d6905931-d53b-4b7f-a1ab-e84dd6683bf2",
   "metadata": {},
   "source": [
    "## Esercizo 3\n",
    "Si consideri il sistema lineare Ax=b, con A matrice e b termine noto memorizzati nel file ``Dati1.mat``.  Risolvere il sistema utilizzando il metodo più adatto al problema proposto e commentare i risultati ottenuti  giustificandoli alla luce della teoria. \n"
   ]
  },
  {
   "cell_type": "code",
   "execution_count": 5,
   "id": "96cb00b6-99da-4ddf-8384-ad0719ea9506",
   "metadata": {
    "tags": []
   },
   "outputs": [],
   "source": [
    "dati1 = loadmat('Dati1.mat')\n",
    "\n",
    "A1 = dati1[\"A\"] \n",
    "\n",
    "b1 = dati1[\"b\"]"
   ]
  },
  {
   "cell_type": "code",
   "execution_count": 7,
   "id": "edf0e3e9-4b88-4a43-9c23-17be3d9ce6ee",
   "metadata": {
    "tags": []
   },
   "outputs": [],
   "source": [
    "#plt.spy(A1)"
   ]
  },
  {
   "cell_type": "code",
   "execution_count": 31,
   "metadata": {},
   "outputs": [],
   "source": [
    "def least_squares(A, b):\n",
    "    \"\"\"Solves the equation Ax=b via Least Squares Method.\"\"\"\n",
    "    n = A.shape[1]\n",
    "    r = np.linalg.matrix_rank(A)\n",
    "    U, sigma, VT = np.linalg.svd(A, full_matrices=True)\n",
    "    D_plus = np.diag(np.hstack([1/sigma[:r], np.zeros(n-r)]))\n",
    "    V = VT.T\n",
    "    A_plus = V.dot(D_plus).dot(U.T)\n",
    "    w = A_plus.dot(b)\n",
    "    error = np.linalg.norm(A.dot(w) - b, ord=2) ** 2\n",
    "    return w,error"
   ]
  },
  {
   "cell_type": "code",
   "execution_count": 45,
   "id": "2599d53f-af6a-4865-85ab-7b971cee6f3e",
   "metadata": {},
   "outputs": [
    {
     "name": "stdout",
     "output_type": "stream",
     "text": [
      "A= [[ 4. -1.  0. ...  0.  0.  0.]\n",
      " [-1.  4. -1. ...  0.  0.  0.]\n",
      " [ 0. -1.  4. ...  0.  0.  0.]\n",
      " ...\n",
      " [ 0.  0.  0. ...  4. -1.  0.]\n",
      " [ 0.  0.  0. ... -1.  4. -1.]\n",
      " [ 0.  0.  0. ...  0. -1.  4.]]\n",
      "L= [[ 1.          0.          0.         ...  0.          0.\n",
      "   0.        ]\n",
      " [-0.25        1.          0.         ...  0.          0.\n",
      "   0.        ]\n",
      " [ 0.         -0.26666667  1.         ...  0.          0.\n",
      "   0.        ]\n",
      " ...\n",
      " [ 0.          0.          0.         ...  1.          0.\n",
      "   0.        ]\n",
      " [ 0.          0.          0.         ... -0.35578608  1.\n",
      "   0.        ]\n",
      " [ 0.          0.          0.         ... -0.01589789 -0.34625126\n",
      "   1.        ]]\n",
      "U= [[ 4.         -1.          0.         ...  0.          0.\n",
      "   0.        ]\n",
      " [ 0.          3.75       -1.         ...  0.          0.\n",
      "   0.        ]\n",
      " [ 0.          0.          3.73333333 ...  0.          0.\n",
      "   0.        ]\n",
      " ...\n",
      " [ 0.          0.          0.         ...  3.22794823 -1.14845904\n",
      "  -0.05131755]\n",
      " [ 0.          0.          0.         ...  0.          3.24519197\n",
      "  -1.12365181]\n",
      " [ 0.          0.          0.         ...  0.          0.\n",
      "   3.30749748]]\n",
      "P= [[1. 0. 0. ... 0. 0. 0.]\n",
      " [0. 1. 0. ... 0. 0. 0.]\n",
      " [0. 0. 1. ... 0. 0. 0.]\n",
      " ...\n",
      " [0. 0. 0. ... 1. 0. 0.]\n",
      " [0. 0. 0. ... 0. 1. 0.]\n",
      " [0. 0. 0. ... 0. 0. 1.]]\n",
      "Matrice P*A \n",
      " [[ 4. -1.  0. ...  0.  0.  0.]\n",
      " [-1.  4. -1. ...  0.  0.  0.]\n",
      " [ 0. -1.  4. ...  0.  0.  0.]\n",
      " ...\n",
      " [ 0.  0.  0. ...  4. -1.  0.]\n",
      " [ 0.  0.  0. ... -1.  4. -1.]\n",
      " [ 0.  0.  0. ...  0. -1.  4.]]\n",
      "Matrice ottenuta moltipicando Le ed U \n",
      " [[ 4.00000000e+00 -1.00000000e+00  0.00000000e+00 ...  0.00000000e+00\n",
      "   0.00000000e+00  0.00000000e+00]\n",
      " [-1.00000000e+00  4.00000000e+00 -1.00000000e+00 ...  0.00000000e+00\n",
      "   0.00000000e+00  0.00000000e+00]\n",
      " [ 0.00000000e+00 -1.00000000e+00  4.00000000e+00 ...  0.00000000e+00\n",
      "   0.00000000e+00  0.00000000e+00]\n",
      " ...\n",
      " [ 0.00000000e+00  0.00000000e+00  0.00000000e+00 ...  4.00000000e+00\n",
      "  -1.00000000e+00 -6.93889390e-18]\n",
      " [ 0.00000000e+00  0.00000000e+00  0.00000000e+00 ... -1.00000000e+00\n",
      "   4.00000000e+00 -1.00000000e+00]\n",
      " [ 0.00000000e+00  0.00000000e+00  0.00000000e+00 ... -1.14148789e-17\n",
      "  -1.00000000e+00  4.00000000e+00]]\n"
     ]
    }
   ],
   "source": [
    "''' r = np.linalg.matrix_rank(A1)\n",
    "print(r)\n",
    "np.shape(A1)\n",
    "\n",
    "print(np.linalg.cond(A1))\n",
    "\n",
    "print(np.count_nonzero(A1) / np.size(A1))\n",
    "'''\n",
    "\n",
    "\n",
    "\n",
    "#w,error = least_squares(A1,b1)\n",
    "#print(w)\n",
    "#print(error)\n",
    "\n",
    "#plt.scatter(A1, b1)\n",
    "#plt.plot(A1, w*A1, c='red')"
   ]
  }
 ],
 "metadata": {
  "kernelspec": {
   "display_name": "Python 3 (ipykernel)",
   "language": "python",
   "name": "python3"
  },
  "language_info": {
   "codemirror_mode": {
    "name": "ipython",
    "version": 3
   },
   "file_extension": ".py",
   "mimetype": "text/x-python",
   "name": "python",
   "nbconvert_exporter": "python",
   "pygments_lexer": "ipython3",
   "version": "3.11.3"
  }
 },
 "nbformat": 4,
 "nbformat_minor": 5
}
